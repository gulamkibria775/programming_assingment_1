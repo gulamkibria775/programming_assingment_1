{
 "cells": [
  {
   "cell_type": "markdown",
   "metadata": {},
   "source": [
    "1.Write a Python program to print \"Hello Python\"?\n",
    "Ans:-"
   ]
  },
  {
   "cell_type": "code",
   "execution_count": 1,
   "metadata": {},
   "outputs": [
    {
     "name": "stdout",
     "output_type": "stream",
     "text": [
      "Hello Python\n"
     ]
    }
   ],
   "source": [
    "print(\"Hello Python\")"
   ]
  },
  {
   "cell_type": "markdown",
   "metadata": {},
   "source": [
    "2. Write a Python program to do arithmetical operations addition and division.?\n",
    "Ans:-"
   ]
  },
  {
   "cell_type": "code",
   "execution_count": 9,
   "metadata": {},
   "outputs": [
    {
     "name": "stdout",
     "output_type": "stream",
     "text": [
      "Enter your first number:2\n",
      "Enter your second number:0\n",
      "<class 'str'>\n",
      "summation: 2.0 \n",
      " subtraction: 2.0 \n",
      " multiplication: 0.0 \n",
      " dividation: b is not zero\n"
     ]
    }
   ],
   "source": [
    "#Store data from user\n",
    "a=input(\"Enter your first number:\")\n",
    "b=input(\"Enter your second number:\")\n",
    "\n",
    "\n",
    "sum=float(a)+float(b)\n",
    "sub=float(a)-float(b)\n",
    "mul=float(a)*float(b)\n",
    "\n",
    "if b=='0':\n",
    "    div=\"b is not zero\"\n",
    "else:\n",
    "    div=float(a)/float(b)\n",
    "\n",
    "print('summation: {0} \\n subtraction: {1} \\n multiplication: {2} \\n dividation: {3}'.format(sum, sub, mul,div))     "
   ]
  },
  {
   "cell_type": "markdown",
   "metadata": {},
   "source": [
    "3. Write a Python program to find the area of a triangle?\n",
    "Ans:-"
   ]
  },
  {
   "cell_type": "code",
   "execution_count": 10,
   "metadata": {},
   "outputs": [
    {
     "name": "stdout",
     "output_type": "stream",
     "text": [
      "Enter height:4\n",
      "Enter base5\n",
      "Area of triangle: 10.0\n"
     ]
    }
   ],
   "source": [
    "height=float(input(\"Enter height:\"))\n",
    "base=float(input(\"Enter base\"))\n",
    "area=.5*height*base\n",
    "print(\"Area of triangle:\",area)"
   ]
  },
  {
   "cell_type": "markdown",
   "metadata": {},
   "source": [
    "4. Write a Python program to swap two variables?\n",
    "Ans:-"
   ]
  },
  {
   "cell_type": "code",
   "execution_count": 14,
   "metadata": {},
   "outputs": [
    {
     "name": "stdout",
     "output_type": "stream",
     "text": [
      "Enter frist number:56\n",
      "Enter second number:789\n",
      "Before swapping:\n",
      "\n",
      "frist number:56.0 second number:789.0\n",
      "\n",
      "\n",
      "After swapping:\n",
      "\n",
      "frist number:789.0 second number:56.0\n"
     ]
    }
   ],
   "source": [
    "a=float(input(\"Enter frist number:\"))\n",
    "b=float(input(\"Enter second number:\"))\n",
    "print(\"Before swapping:\\n\")\n",
    "print(\"frist number:{0}    second number:{1}\\n\\n\".format(a,b))\n",
    "c=a+b\n",
    "a=c-a\n",
    "b=c-b\n",
    "\n",
    "\n",
    "print(\"After swapping:\\n\")\n",
    "print(\"frist number:{0}    second number:{1}\".format(a,b))"
   ]
  },
  {
   "cell_type": "markdown",
   "metadata": {},
   "source": [
    "5. Write a Python program to generate a random number?\n",
    "Ans:-"
   ]
  },
  {
   "cell_type": "code",
   "execution_count": 16,
   "metadata": {},
   "outputs": [
    {
     "name": "stdout",
     "output_type": "stream",
     "text": [
      "0.21895781471929487\n"
     ]
    }
   ],
   "source": [
    "import random \n",
    "n = random.random() \n",
    "print(n)"
   ]
  },
  {
   "cell_type": "code",
   "execution_count": null,
   "metadata": {},
   "outputs": [],
   "source": []
  },
  {
   "cell_type": "code",
   "execution_count": null,
   "metadata": {},
   "outputs": [],
   "source": []
  },
  {
   "cell_type": "code",
   "execution_count": null,
   "metadata": {},
   "outputs": [],
   "source": []
  }
 ],
 "metadata": {
  "kernelspec": {
   "display_name": "Python 3",
   "language": "python",
   "name": "python3"
  },
  "language_info": {
   "codemirror_mode": {
    "name": "ipython",
    "version": 3
   },
   "file_extension": ".py",
   "mimetype": "text/x-python",
   "name": "python",
   "nbconvert_exporter": "python",
   "pygments_lexer": "ipython3",
   "version": "3.8.5"
  }
 },
 "nbformat": 4,
 "nbformat_minor": 4
}
